{
  "nbformat": 4,
  "nbformat_minor": 0,
  "metadata": {
    "kernelspec": {
      "display_name": "GPU_env",
      "language": "python",
      "name": "gpu_env"
    },
    "language_info": {
      "codemirror_mode": {
        "name": "ipython",
        "version": 3
      },
      "file_extension": ".py",
      "mimetype": "text/x-python",
      "name": "python",
      "nbconvert_exporter": "python",
      "pygments_lexer": "ipython3",
      "version": "3.7.0"
    },
    "colab": {
      "name": "DataPreprocessing.ipynb의 사본",
      "provenance": [],
      "include_colab_link": true
    }
  },
  "cells": [
    {
      "cell_type": "markdown",
      "metadata": {
        "id": "view-in-github",
        "colab_type": "text"
      },
      "source": [
        "<a href=\"https://colab.research.google.com/github/leekate/college_project_DeepLearning/blob/main/FaceDetection_DataPreprocessing.ipynb\" target=\"_parent\"><img src=\"https://colab.research.google.com/assets/colab-badge.svg\" alt=\"Open In Colab\"/></a>"
      ]
    },
    {
      "cell_type": "code",
      "metadata": {
        "id": "HD-YTbi2_XW9"
      },
      "source": [
        "import os \n",
        "import cv2\n",
        "import numpy as np\n",
        "import pandas as pd\n",
        "import matplotlib.pyplot as plt\n"
      ],
      "execution_count": null,
      "outputs": []
    },
    {
      "cell_type": "markdown",
      "metadata": {
        "id": "nCF8ITjz_XXO"
      },
      "source": [
        "# **Txt file** to **CSV file**"
      ]
    },
    {
      "cell_type": "code",
      "metadata": {
        "id": "Hpzilv0i_XXP"
      },
      "source": [
        "class MakeDataFrame:\n",
        "    \n",
        "    def __init__(self, txt_file, n_landpoint, csv_name, sav_path):\n",
        "        self.txt_file = txt_file\n",
        "        self.n_landpoint = n_landpoint\n",
        "        self.csv_name = csv_name\n",
        "        self.sav_path = sav_path\n",
        "        self.landmark = self.make_col_head()\n",
        "        \n",
        "    def make_col_head(self):\n",
        "        tmp = [n for n in range(1, n_landpoint + 1)]\n",
        "        tmp.insert(0, 'filename')\n",
        "        \n",
        "        col_head = []\n",
        "        \n",
        "        for i in tmp:\n",
        "            if i == 'filename':\n",
        "                col_head.append(i)\n",
        "            else:\n",
        "                x = 'x_' + str(i)\n",
        "                y = 'y_' + str(i)\n",
        "                \n",
        "                col_head.append(x)\n",
        "                col_head.append(y)\n",
        "        landmark = pd.DataFrame(columns=col_head)\n",
        "        \n",
        "        return landmark\n",
        "    \n",
        "    def make_dataframe(self):\n",
        "        txt_file = self.txt_file\n",
        "        ncol = 0\n",
        "        start = 0\n",
        "        end = (self.n_landpoint * 2) + 1\n",
        "        \n",
        "        with open(self.txt_file) as Id:\n",
        "            data = Id.read()\n",
        "            \n",
        "        data = data.split()\n",
        "        n_row = int(len(data) / end)\n",
        "        print(\"데이터 개수: {}\".format(n_row))\n",
        "        \n",
        "        try:\n",
        "            for i in range(n_row):\n",
        "                each_row_data = data[start:end]\n",
        "                each_row_data[1:] = [float(x) for x in each_row_data[1:]]\n",
        "                \n",
        "                self.landmark.loc[ncol] = each_row_data\n",
        "                ncol += 1\n",
        "                start += 137\n",
        "                end += 137\n",
        "                \n",
        "        except OSError:\n",
        "            print('cannot open', txt_file)\n",
        "                \n",
        "        except ValueError:\n",
        "            print(\"Could not convert data to an float\")\n",
        "                \n",
        "        else:\n",
        "            print(\"There ar {} files in landmark\".format(ncol))\n",
        "                \n",
        "    def save_csv(self):\n",
        "        if not os.path.isdir(self.sav_path):\n",
        "            os.mkdir(self.sav_path)\n",
        "        name = str(self.csv_name) + '.csv'\n",
        "        csv_path = os.path.join(self.sav_path, name)\n",
        "        self.landmark.to_csv(csv_path, index=False)\n",
        "        \n",
        "    def get_landmark(self):\n",
        "        return self.landmark\n",
        "        \n",
        "        \n",
        "        "
      ],
      "execution_count": null,
      "outputs": []
    },
    {
      "cell_type": "markdown",
      "metadata": {
        "id": "o5BW7rUP_XXQ"
      },
      "source": [
        "# Image-> X data, Landmark-> Y data, **make .npy file**"
      ]
    },
    {
      "cell_type": "code",
      "metadata": {
        "id": "h9eqQJl__XXR"
      },
      "source": [
        "class MakeNPYfile:\n",
        "    def __init__(self, img_dir, landmark, sav_path, xname, yname):\n",
        "        self.img_dir = img_dir\n",
        "        self.landmark = landmark\n",
        "        self.sav_path = sav_path\n",
        "        self.xname = xname\n",
        "        self.yname = yname\n",
        "        self.x = []\n",
        "        self.y = []\n",
        "        \n",
        "    def img_to_numpy(self):\n",
        "        shape = self.landmark.shape\n",
        "        \n",
        "        \n",
        "        for f in range(shape[0]):\n",
        "            data = list(self.landmark.iloc[f, :].values)\n",
        "            img_name = data[0]\n",
        "            \n",
        "            img_path = os.path.join(self.img_dir, img_name)\n",
        "            img = cv2.imread(img_path, cv2.IMREAD_COLOR)\n",
        "            img = cv2.cvtColor(img, cv2.COLOR_BGR2GRAY)\n",
        "            img = cv2.resize(img, (200, 200))\n",
        "            \n",
        "            self.x.append(img)\n",
        "            self.y.append(data[1:])\n",
        "            \n",
        "        self.x = np.array(self.x)\n",
        "        self.y = np.array(self.y)\n",
        "        \n",
        "        print(self.x.shape)\n",
        "        print(self.y.shape)\n",
        "        #normalization\n",
        "        self.x = (self.x.astype(np.float32)) / self.x.max()\n",
        "        \n",
        "        #self.y = (np_y.astype(np.float32)) / self.y.max()\n",
        "        \n",
        "        return self.x, self.y\n",
        "    \n",
        "    def save_npy(self):\n",
        "        if not os.path.isdir(self.sav_path):\n",
        "            os.mkdir(self.sav_path)\n",
        "        self.xname = self.xname + '.npy'\n",
        "        self.yname = self.yname + '.npy'\n",
        "        x_path = os.path.join(self.sav_path, self.xname)\n",
        "        y_path = os.path.join(self.sav_path, self.yname)\n",
        "        \n",
        "        np.save(x_path, self.x)\n",
        "        np.save(y_path, self.y)\n",
        "        \n",
        "    def get_x(self):\n",
        "        return self.x\n",
        "    \n",
        "    def get_y(self):\n",
        "        return self.y\n",
        "    "
      ],
      "execution_count": null,
      "outputs": []
    },
    {
      "cell_type": "code",
      "metadata": {
        "id": "2jvwdarK_XXR"
      },
      "source": [
        "test_txt = './Project/Label/landmark_list_part2.txt'\n",
        "test_land_sav_path = './Project/Dataset/Landmark'\n",
        "test_land_csv = 'test_landmark'\n"
      ],
      "execution_count": null,
      "outputs": []
    },
    {
      "cell_type": "code",
      "metadata": {
        "id": "_BsUuYTk_XXS"
      },
      "source": [
        "train_img_dir = './dataset/part1'\n",
        "test_img_dir = './dataset/part2'\n"
      ],
      "execution_count": null,
      "outputs": []
    },
    {
      "cell_type": "code",
      "metadata": {
        "id": "nExkOqnz_XXS"
      },
      "source": [
        "train_npy_path = './Project/Dataset/Train'\n",
        "test_npy_path = './Project/Dataset/Test'\n",
        "\n",
        "train_xname = 'x_train'\n",
        "train_yname = 'y_train'\n",
        "test_xname = 'x_test'\n",
        "test_yname = 'y_test'"
      ],
      "execution_count": null,
      "outputs": []
    },
    {
      "cell_type": "markdown",
      "metadata": {
        "id": "av4ykG91_XXS"
      },
      "source": [
        "# train data\n"
      ]
    },
    {
      "cell_type": "code",
      "metadata": {
        "id": "fVusTUqT_XXT"
      },
      "source": [
        "n_landpoint = 68\n",
        "train_txt = './Project/Label/landmark_list_part1.txt'\n",
        "train_land_sav_path = './Project/Dataset/Landmark'\n",
        "train_land_csv = 'train_landmark'\n"
      ],
      "execution_count": null,
      "outputs": []
    },
    {
      "cell_type": "code",
      "metadata": {
        "id": "X4HKMqcr_XXT"
      },
      "source": [
        "train_df = MakeDataFrame(txt_file=train_txt, n_landpoint=68, csv_name=train_land_csv, sav_path=train_land_sav_path)\n"
      ],
      "execution_count": null,
      "outputs": []
    },
    {
      "cell_type": "code",
      "metadata": {
        "id": "ZzpP9uVj_XXT",
        "outputId": "0396bb60-c35f-47b8-ed62-6ae8af8b3550"
      },
      "source": [
        "train_df.make_col_head()"
      ],
      "execution_count": null,
      "outputs": [
        {
          "output_type": "execute_result",
          "data": {
            "text/html": [
              "<div>\n",
              "<style scoped>\n",
              "    .dataframe tbody tr th:only-of-type {\n",
              "        vertical-align: middle;\n",
              "    }\n",
              "\n",
              "    .dataframe tbody tr th {\n",
              "        vertical-align: top;\n",
              "    }\n",
              "\n",
              "    .dataframe thead th {\n",
              "        text-align: right;\n",
              "    }\n",
              "</style>\n",
              "<table border=\"1\" class=\"dataframe\">\n",
              "  <thead>\n",
              "    <tr style=\"text-align: right;\">\n",
              "      <th></th>\n",
              "      <th>filename</th>\n",
              "      <th>x_1</th>\n",
              "      <th>y_1</th>\n",
              "      <th>x_2</th>\n",
              "      <th>y_2</th>\n",
              "      <th>x_3</th>\n",
              "      <th>y_3</th>\n",
              "      <th>x_4</th>\n",
              "      <th>y_4</th>\n",
              "      <th>x_5</th>\n",
              "      <th>...</th>\n",
              "      <th>x_64</th>\n",
              "      <th>y_64</th>\n",
              "      <th>x_65</th>\n",
              "      <th>y_65</th>\n",
              "      <th>x_66</th>\n",
              "      <th>y_66</th>\n",
              "      <th>x_67</th>\n",
              "      <th>y_67</th>\n",
              "      <th>x_68</th>\n",
              "      <th>y_68</th>\n",
              "    </tr>\n",
              "  </thead>\n",
              "  <tbody>\n",
              "  </tbody>\n",
              "</table>\n",
              "<p>0 rows × 137 columns</p>\n",
              "</div>"
            ],
            "text/plain": [
              "Empty DataFrame\n",
              "Columns: [filename, x_1, y_1, x_2, y_2, x_3, y_3, x_4, y_4, x_5, y_5, x_6, y_6, x_7, y_7, x_8, y_8, x_9, y_9, x_10, y_10, x_11, y_11, x_12, y_12, x_13, y_13, x_14, y_14, x_15, y_15, x_16, y_16, x_17, y_17, x_18, y_18, x_19, y_19, x_20, y_20, x_21, y_21, x_22, y_22, x_23, y_23, x_24, y_24, x_25, y_25, x_26, y_26, x_27, y_27, x_28, y_28, x_29, y_29, x_30, y_30, x_31, y_31, x_32, y_32, x_33, y_33, x_34, y_34, x_35, y_35, x_36, y_36, x_37, y_37, x_38, y_38, x_39, y_39, x_40, y_40, x_41, y_41, x_42, y_42, x_43, y_43, x_44, y_44, x_45, y_45, x_46, y_46, x_47, y_47, x_48, y_48, x_49, y_49, x_50, ...]\n",
              "Index: []\n",
              "\n",
              "[0 rows x 137 columns]"
            ]
          },
          "metadata": {
            "tags": []
          },
          "execution_count": 6
        }
      ]
    },
    {
      "cell_type": "code",
      "metadata": {
        "id": "YsaYJu_S_XXW",
        "outputId": "085261b6-2fb7-4c88-c6b4-e41ff99bfc32"
      },
      "source": [
        "train_df.make_dataframe()"
      ],
      "execution_count": null,
      "outputs": [
        {
          "output_type": "stream",
          "text": [
            "데이터 개수: 9780\n",
            "There ar 9780 files in landmark\n"
          ],
          "name": "stdout"
        }
      ]
    },
    {
      "cell_type": "code",
      "metadata": {
        "id": "hoS5GXFk_XXW"
      },
      "source": [
        "train_land = train_df.get_landmark()"
      ],
      "execution_count": null,
      "outputs": []
    },
    {
      "cell_type": "code",
      "metadata": {
        "scrolled": true,
        "id": "S0thziOy_XXX",
        "outputId": "bd5909b2-6304-496a-a2e0-deb3a64dfb51"
      },
      "source": [
        "train_land"
      ],
      "execution_count": null,
      "outputs": [
        {
          "output_type": "execute_result",
          "data": {
            "text/html": [
              "<div>\n",
              "<style scoped>\n",
              "    .dataframe tbody tr th:only-of-type {\n",
              "        vertical-align: middle;\n",
              "    }\n",
              "\n",
              "    .dataframe tbody tr th {\n",
              "        vertical-align: top;\n",
              "    }\n",
              "\n",
              "    .dataframe thead th {\n",
              "        text-align: right;\n",
              "    }\n",
              "</style>\n",
              "<table border=\"1\" class=\"dataframe\">\n",
              "  <thead>\n",
              "    <tr style=\"text-align: right;\">\n",
              "      <th></th>\n",
              "      <th>filename</th>\n",
              "      <th>x_1</th>\n",
              "      <th>y_1</th>\n",
              "      <th>x_2</th>\n",
              "      <th>y_2</th>\n",
              "      <th>x_3</th>\n",
              "      <th>y_3</th>\n",
              "      <th>x_4</th>\n",
              "      <th>y_4</th>\n",
              "      <th>x_5</th>\n",
              "      <th>...</th>\n",
              "      <th>x_64</th>\n",
              "      <th>y_64</th>\n",
              "      <th>x_65</th>\n",
              "      <th>y_65</th>\n",
              "      <th>x_66</th>\n",
              "      <th>y_66</th>\n",
              "      <th>x_67</th>\n",
              "      <th>y_67</th>\n",
              "      <th>x_68</th>\n",
              "      <th>y_68</th>\n",
              "    </tr>\n",
              "  </thead>\n",
              "  <tbody>\n",
              "    <tr>\n",
              "      <th>0</th>\n",
              "      <td>1_0_2_20161219140530307.jpg</td>\n",
              "      <td>-4.0</td>\n",
              "      <td>71.0</td>\n",
              "      <td>-4.0</td>\n",
              "      <td>96.0</td>\n",
              "      <td>-3.0</td>\n",
              "      <td>120.0</td>\n",
              "      <td>-1.0</td>\n",
              "      <td>144.0</td>\n",
              "      <td>9.0</td>\n",
              "      <td>...</td>\n",
              "      <td>107.0</td>\n",
              "      <td>136.0</td>\n",
              "      <td>130.0</td>\n",
              "      <td>135.0</td>\n",
              "      <td>108.0</td>\n",
              "      <td>139.0</td>\n",
              "      <td>98.0</td>\n",
              "      <td>140.0</td>\n",
              "      <td>88.0</td>\n",
              "      <td>139.0</td>\n",
              "    </tr>\n",
              "    <tr>\n",
              "      <th>1</th>\n",
              "      <td>1_0_2_20161219140525218.jpg</td>\n",
              "      <td>13.0</td>\n",
              "      <td>76.0</td>\n",
              "      <td>13.0</td>\n",
              "      <td>96.0</td>\n",
              "      <td>15.0</td>\n",
              "      <td>117.0</td>\n",
              "      <td>18.0</td>\n",
              "      <td>137.0</td>\n",
              "      <td>25.0</td>\n",
              "      <td>...</td>\n",
              "      <td>102.0</td>\n",
              "      <td>137.0</td>\n",
              "      <td>121.0</td>\n",
              "      <td>141.0</td>\n",
              "      <td>102.0</td>\n",
              "      <td>141.0</td>\n",
              "      <td>94.0</td>\n",
              "      <td>142.0</td>\n",
              "      <td>85.0</td>\n",
              "      <td>143.0</td>\n",
              "    </tr>\n",
              "    <tr>\n",
              "      <th>2</th>\n",
              "      <td>1_0_2_20161219140540938.jpg</td>\n",
              "      <td>11.0</td>\n",
              "      <td>62.0</td>\n",
              "      <td>14.0</td>\n",
              "      <td>84.0</td>\n",
              "      <td>18.0</td>\n",
              "      <td>105.0</td>\n",
              "      <td>23.0</td>\n",
              "      <td>127.0</td>\n",
              "      <td>33.0</td>\n",
              "      <td>...</td>\n",
              "      <td>108.0</td>\n",
              "      <td>135.0</td>\n",
              "      <td>135.0</td>\n",
              "      <td>136.0</td>\n",
              "      <td>109.0</td>\n",
              "      <td>147.0</td>\n",
              "      <td>99.0</td>\n",
              "      <td>148.0</td>\n",
              "      <td>90.0</td>\n",
              "      <td>146.0</td>\n",
              "    </tr>\n",
              "    <tr>\n",
              "      <th>3</th>\n",
              "      <td>6_1_2_20161219140554092.jpg</td>\n",
              "      <td>36.0</td>\n",
              "      <td>66.0</td>\n",
              "      <td>34.0</td>\n",
              "      <td>86.0</td>\n",
              "      <td>38.0</td>\n",
              "      <td>108.0</td>\n",
              "      <td>45.0</td>\n",
              "      <td>129.0</td>\n",
              "      <td>54.0</td>\n",
              "      <td>...</td>\n",
              "      <td>102.0</td>\n",
              "      <td>140.0</td>\n",
              "      <td>120.0</td>\n",
              "      <td>154.0</td>\n",
              "      <td>104.0</td>\n",
              "      <td>168.0</td>\n",
              "      <td>97.0</td>\n",
              "      <td>167.0</td>\n",
              "      <td>92.0</td>\n",
              "      <td>166.0</td>\n",
              "    </tr>\n",
              "    <tr>\n",
              "      <th>4</th>\n",
              "      <td>1_1_2_20161219140604000.jpg</td>\n",
              "      <td>-3.0</td>\n",
              "      <td>60.0</td>\n",
              "      <td>-3.0</td>\n",
              "      <td>85.0</td>\n",
              "      <td>-1.0</td>\n",
              "      <td>110.0</td>\n",
              "      <td>3.0</td>\n",
              "      <td>134.0</td>\n",
              "      <td>12.0</td>\n",
              "      <td>...</td>\n",
              "      <td>109.0</td>\n",
              "      <td>137.0</td>\n",
              "      <td>126.0</td>\n",
              "      <td>141.0</td>\n",
              "      <td>109.0</td>\n",
              "      <td>153.0</td>\n",
              "      <td>98.0</td>\n",
              "      <td>154.0</td>\n",
              "      <td>88.0</td>\n",
              "      <td>153.0</td>\n",
              "    </tr>\n",
              "    <tr>\n",
              "      <th>...</th>\n",
              "      <td>...</td>\n",
              "      <td>...</td>\n",
              "      <td>...</td>\n",
              "      <td>...</td>\n",
              "      <td>...</td>\n",
              "      <td>...</td>\n",
              "      <td>...</td>\n",
              "      <td>...</td>\n",
              "      <td>...</td>\n",
              "      <td>...</td>\n",
              "      <td>...</td>\n",
              "      <td>...</td>\n",
              "      <td>...</td>\n",
              "      <td>...</td>\n",
              "      <td>...</td>\n",
              "      <td>...</td>\n",
              "      <td>...</td>\n",
              "      <td>...</td>\n",
              "      <td>...</td>\n",
              "      <td>...</td>\n",
              "      <td>...</td>\n",
              "    </tr>\n",
              "    <tr>\n",
              "      <th>9775</th>\n",
              "      <td>36_0_0_20170112003914754.jpg</td>\n",
              "      <td>37.0</td>\n",
              "      <td>71.0</td>\n",
              "      <td>36.0</td>\n",
              "      <td>91.0</td>\n",
              "      <td>38.0</td>\n",
              "      <td>112.0</td>\n",
              "      <td>43.0</td>\n",
              "      <td>132.0</td>\n",
              "      <td>52.0</td>\n",
              "      <td>...</td>\n",
              "      <td>105.0</td>\n",
              "      <td>141.0</td>\n",
              "      <td>126.0</td>\n",
              "      <td>141.0</td>\n",
              "      <td>105.0</td>\n",
              "      <td>143.0</td>\n",
              "      <td>97.0</td>\n",
              "      <td>145.0</td>\n",
              "      <td>90.0</td>\n",
              "      <td>145.0</td>\n",
              "    </tr>\n",
              "    <tr>\n",
              "      <th>9776</th>\n",
              "      <td>31_0_2_20170112003835278.jpg</td>\n",
              "      <td>5.0</td>\n",
              "      <td>63.0</td>\n",
              "      <td>5.0</td>\n",
              "      <td>86.0</td>\n",
              "      <td>7.0</td>\n",
              "      <td>109.0</td>\n",
              "      <td>9.0</td>\n",
              "      <td>132.0</td>\n",
              "      <td>16.0</td>\n",
              "      <td>...</td>\n",
              "      <td>106.0</td>\n",
              "      <td>140.0</td>\n",
              "      <td>125.0</td>\n",
              "      <td>138.0</td>\n",
              "      <td>106.0</td>\n",
              "      <td>138.0</td>\n",
              "      <td>97.0</td>\n",
              "      <td>138.0</td>\n",
              "      <td>89.0</td>\n",
              "      <td>138.0</td>\n",
              "    </tr>\n",
              "    <tr>\n",
              "      <th>9777</th>\n",
              "      <td>24_0_2_20170112003933482.jpg</td>\n",
              "      <td>9.0</td>\n",
              "      <td>51.0</td>\n",
              "      <td>11.0</td>\n",
              "      <td>76.0</td>\n",
              "      <td>13.0</td>\n",
              "      <td>100.0</td>\n",
              "      <td>17.0</td>\n",
              "      <td>124.0</td>\n",
              "      <td>26.0</td>\n",
              "      <td>...</td>\n",
              "      <td>106.0</td>\n",
              "      <td>141.0</td>\n",
              "      <td>121.0</td>\n",
              "      <td>142.0</td>\n",
              "      <td>106.0</td>\n",
              "      <td>142.0</td>\n",
              "      <td>99.0</td>\n",
              "      <td>142.0</td>\n",
              "      <td>91.0</td>\n",
              "      <td>142.0</td>\n",
              "    </tr>\n",
              "    <tr>\n",
              "      <th>9778</th>\n",
              "      <td>20_1_2_20170112003857668.jpg</td>\n",
              "      <td>26.0</td>\n",
              "      <td>65.0</td>\n",
              "      <td>25.0</td>\n",
              "      <td>87.0</td>\n",
              "      <td>28.0</td>\n",
              "      <td>109.0</td>\n",
              "      <td>34.0</td>\n",
              "      <td>130.0</td>\n",
              "      <td>44.0</td>\n",
              "      <td>...</td>\n",
              "      <td>106.0</td>\n",
              "      <td>141.0</td>\n",
              "      <td>123.0</td>\n",
              "      <td>148.0</td>\n",
              "      <td>107.0</td>\n",
              "      <td>148.0</td>\n",
              "      <td>99.0</td>\n",
              "      <td>149.0</td>\n",
              "      <td>90.0</td>\n",
              "      <td>148.0</td>\n",
              "    </tr>\n",
              "    <tr>\n",
              "      <th>9779</th>\n",
              "      <td>19_0_2_20170112003923755.jpg</td>\n",
              "      <td>4.0</td>\n",
              "      <td>52.0</td>\n",
              "      <td>4.0</td>\n",
              "      <td>76.0</td>\n",
              "      <td>6.0</td>\n",
              "      <td>100.0</td>\n",
              "      <td>9.0</td>\n",
              "      <td>124.0</td>\n",
              "      <td>18.0</td>\n",
              "      <td>...</td>\n",
              "      <td>108.0</td>\n",
              "      <td>140.0</td>\n",
              "      <td>124.0</td>\n",
              "      <td>142.0</td>\n",
              "      <td>109.0</td>\n",
              "      <td>141.0</td>\n",
              "      <td>100.0</td>\n",
              "      <td>142.0</td>\n",
              "      <td>91.0</td>\n",
              "      <td>141.0</td>\n",
              "    </tr>\n",
              "  </tbody>\n",
              "</table>\n",
              "<p>9780 rows × 137 columns</p>\n",
              "</div>"
            ],
            "text/plain": [
              "                          filename   x_1   y_1   x_2   y_2   x_3    y_3   x_4  \\\n",
              "0      1_0_2_20161219140530307.jpg  -4.0  71.0  -4.0  96.0  -3.0  120.0  -1.0   \n",
              "1      1_0_2_20161219140525218.jpg  13.0  76.0  13.0  96.0  15.0  117.0  18.0   \n",
              "2      1_0_2_20161219140540938.jpg  11.0  62.0  14.0  84.0  18.0  105.0  23.0   \n",
              "3      6_1_2_20161219140554092.jpg  36.0  66.0  34.0  86.0  38.0  108.0  45.0   \n",
              "4      1_1_2_20161219140604000.jpg  -3.0  60.0  -3.0  85.0  -1.0  110.0   3.0   \n",
              "...                            ...   ...   ...   ...   ...   ...    ...   ...   \n",
              "9775  36_0_0_20170112003914754.jpg  37.0  71.0  36.0  91.0  38.0  112.0  43.0   \n",
              "9776  31_0_2_20170112003835278.jpg   5.0  63.0   5.0  86.0   7.0  109.0   9.0   \n",
              "9777  24_0_2_20170112003933482.jpg   9.0  51.0  11.0  76.0  13.0  100.0  17.0   \n",
              "9778  20_1_2_20170112003857668.jpg  26.0  65.0  25.0  87.0  28.0  109.0  34.0   \n",
              "9779  19_0_2_20170112003923755.jpg   4.0  52.0   4.0  76.0   6.0  100.0   9.0   \n",
              "\n",
              "        y_4   x_5  ...   x_64   y_64   x_65   y_65   x_66   y_66   x_67  \\\n",
              "0     144.0   9.0  ...  107.0  136.0  130.0  135.0  108.0  139.0   98.0   \n",
              "1     137.0  25.0  ...  102.0  137.0  121.0  141.0  102.0  141.0   94.0   \n",
              "2     127.0  33.0  ...  108.0  135.0  135.0  136.0  109.0  147.0   99.0   \n",
              "3     129.0  54.0  ...  102.0  140.0  120.0  154.0  104.0  168.0   97.0   \n",
              "4     134.0  12.0  ...  109.0  137.0  126.0  141.0  109.0  153.0   98.0   \n",
              "...     ...   ...  ...    ...    ...    ...    ...    ...    ...    ...   \n",
              "9775  132.0  52.0  ...  105.0  141.0  126.0  141.0  105.0  143.0   97.0   \n",
              "9776  132.0  16.0  ...  106.0  140.0  125.0  138.0  106.0  138.0   97.0   \n",
              "9777  124.0  26.0  ...  106.0  141.0  121.0  142.0  106.0  142.0   99.0   \n",
              "9778  130.0  44.0  ...  106.0  141.0  123.0  148.0  107.0  148.0   99.0   \n",
              "9779  124.0  18.0  ...  108.0  140.0  124.0  142.0  109.0  141.0  100.0   \n",
              "\n",
              "       y_67  x_68   y_68  \n",
              "0     140.0  88.0  139.0  \n",
              "1     142.0  85.0  143.0  \n",
              "2     148.0  90.0  146.0  \n",
              "3     167.0  92.0  166.0  \n",
              "4     154.0  88.0  153.0  \n",
              "...     ...   ...    ...  \n",
              "9775  145.0  90.0  145.0  \n",
              "9776  138.0  89.0  138.0  \n",
              "9777  142.0  91.0  142.0  \n",
              "9778  149.0  90.0  148.0  \n",
              "9779  142.0  91.0  141.0  \n",
              "\n",
              "[9780 rows x 137 columns]"
            ]
          },
          "metadata": {
            "tags": []
          },
          "execution_count": 9
        }
      ]
    },
    {
      "cell_type": "code",
      "metadata": {
        "id": "fqC3w13P_XXX"
      },
      "source": [
        "name = 'train_landmark' + '.csv'\n",
        "csv_path = os.path.join('./Project/Landmark', name)\n",
        "train_land.to_csv(csv_path, index=False)"
      ],
      "execution_count": null,
      "outputs": []
    },
    {
      "cell_type": "code",
      "metadata": {
        "id": "pJ8OyKwH_XXX"
      },
      "source": [
        "train_df.save_csv()"
      ],
      "execution_count": null,
      "outputs": []
    },
    {
      "cell_type": "code",
      "metadata": {
        "id": "c3fLI1yI_XXX"
      },
      "source": [
        "train_npy = MakeNPYfile(img_dir=train_img_dir, landmark=train_land, sav_path=train_npy_path, xname=train_xname, yname=train_yname)"
      ],
      "execution_count": null,
      "outputs": []
    },
    {
      "cell_type": "code",
      "metadata": {
        "id": "69MR5nFj_XXY",
        "outputId": "bae18142-5909-4d9a-cf0c-cea04b89eb00"
      },
      "source": [
        "x_train, y_train = train_npy.img_to_numpy()"
      ],
      "execution_count": null,
      "outputs": [
        {
          "output_type": "stream",
          "text": [
            "(9780, 200, 200)\n",
            "(9780, 136)\n"
          ],
          "name": "stdout"
        }
      ]
    },
    {
      "cell_type": "code",
      "metadata": {
        "id": "XVYfaobH_XXY"
      },
      "source": [
        "train_npy.save_npy()"
      ],
      "execution_count": null,
      "outputs": []
    },
    {
      "cell_type": "markdown",
      "metadata": {
        "id": "FmQPs67t_XXY"
      },
      "source": [
        "# test"
      ]
    },
    {
      "cell_type": "code",
      "metadata": {
        "id": "vtzZP3-p_XXZ"
      },
      "source": [
        "test_df = MakeDataFrame(txt_file=test_txt, n_landpoint=68, csv_name=test_land_csv, sav_path=test_land_sav_path)\n"
      ],
      "execution_count": null,
      "outputs": []
    },
    {
      "cell_type": "code",
      "metadata": {
        "id": "dRMtKe3L_XXZ",
        "outputId": "cb3604a9-33e7-44e0-f2a3-927be9fce33c"
      },
      "source": [
        "test_df.make_col_head()"
      ],
      "execution_count": null,
      "outputs": [
        {
          "output_type": "execute_result",
          "data": {
            "text/html": [
              "<div>\n",
              "<style scoped>\n",
              "    .dataframe tbody tr th:only-of-type {\n",
              "        vertical-align: middle;\n",
              "    }\n",
              "\n",
              "    .dataframe tbody tr th {\n",
              "        vertical-align: top;\n",
              "    }\n",
              "\n",
              "    .dataframe thead th {\n",
              "        text-align: right;\n",
              "    }\n",
              "</style>\n",
              "<table border=\"1\" class=\"dataframe\">\n",
              "  <thead>\n",
              "    <tr style=\"text-align: right;\">\n",
              "      <th></th>\n",
              "      <th>filename</th>\n",
              "      <th>x_1</th>\n",
              "      <th>y_1</th>\n",
              "      <th>x_2</th>\n",
              "      <th>y_2</th>\n",
              "      <th>x_3</th>\n",
              "      <th>y_3</th>\n",
              "      <th>x_4</th>\n",
              "      <th>y_4</th>\n",
              "      <th>x_5</th>\n",
              "      <th>...</th>\n",
              "      <th>x_64</th>\n",
              "      <th>y_64</th>\n",
              "      <th>x_65</th>\n",
              "      <th>y_65</th>\n",
              "      <th>x_66</th>\n",
              "      <th>y_66</th>\n",
              "      <th>x_67</th>\n",
              "      <th>y_67</th>\n",
              "      <th>x_68</th>\n",
              "      <th>y_68</th>\n",
              "    </tr>\n",
              "  </thead>\n",
              "  <tbody>\n",
              "  </tbody>\n",
              "</table>\n",
              "<p>0 rows × 137 columns</p>\n",
              "</div>"
            ],
            "text/plain": [
              "Empty DataFrame\n",
              "Columns: [filename, x_1, y_1, x_2, y_2, x_3, y_3, x_4, y_4, x_5, y_5, x_6, y_6, x_7, y_7, x_8, y_8, x_9, y_9, x_10, y_10, x_11, y_11, x_12, y_12, x_13, y_13, x_14, y_14, x_15, y_15, x_16, y_16, x_17, y_17, x_18, y_18, x_19, y_19, x_20, y_20, x_21, y_21, x_22, y_22, x_23, y_23, x_24, y_24, x_25, y_25, x_26, y_26, x_27, y_27, x_28, y_28, x_29, y_29, x_30, y_30, x_31, y_31, x_32, y_32, x_33, y_33, x_34, y_34, x_35, y_35, x_36, y_36, x_37, y_37, x_38, y_38, x_39, y_39, x_40, y_40, x_41, y_41, x_42, y_42, x_43, y_43, x_44, y_44, x_45, y_45, x_46, y_46, x_47, y_47, x_48, y_48, x_49, y_49, x_50, ...]\n",
              "Index: []\n",
              "\n",
              "[0 rows x 137 columns]"
            ]
          },
          "metadata": {
            "tags": []
          },
          "execution_count": 47
        }
      ]
    },
    {
      "cell_type": "code",
      "metadata": {
        "id": "bXyqxoNE_XXa",
        "outputId": "cc708a18-7d68-4db6-ec56-9c92ebc42ad2"
      },
      "source": [
        "test_df.make_dataframe()"
      ],
      "execution_count": null,
      "outputs": [
        {
          "output_type": "stream",
          "text": [
            "데이터 개수: 10719\n",
            "There ar 10719 files in landmark\n"
          ],
          "name": "stdout"
        }
      ]
    },
    {
      "cell_type": "code",
      "metadata": {
        "id": "damdEizy_XXa"
      },
      "source": [
        "test_land = test_df.get_landmark()"
      ],
      "execution_count": null,
      "outputs": []
    },
    {
      "cell_type": "code",
      "metadata": {
        "scrolled": true,
        "id": "1rIHeRg7_XXa",
        "outputId": "c1a4ab67-7d47-4edf-f7fc-ef89cc38f1ad"
      },
      "source": [
        "test_land"
      ],
      "execution_count": null,
      "outputs": [
        {
          "output_type": "execute_result",
          "data": {
            "text/html": [
              "<div>\n",
              "<style scoped>\n",
              "    .dataframe tbody tr th:only-of-type {\n",
              "        vertical-align: middle;\n",
              "    }\n",
              "\n",
              "    .dataframe tbody tr th {\n",
              "        vertical-align: top;\n",
              "    }\n",
              "\n",
              "    .dataframe thead th {\n",
              "        text-align: right;\n",
              "    }\n",
              "</style>\n",
              "<table border=\"1\" class=\"dataframe\">\n",
              "  <thead>\n",
              "    <tr style=\"text-align: right;\">\n",
              "      <th></th>\n",
              "      <th>filename</th>\n",
              "      <th>x_1</th>\n",
              "      <th>y_1</th>\n",
              "      <th>x_2</th>\n",
              "      <th>y_2</th>\n",
              "      <th>x_3</th>\n",
              "      <th>y_3</th>\n",
              "      <th>x_4</th>\n",
              "      <th>y_4</th>\n",
              "      <th>x_5</th>\n",
              "      <th>...</th>\n",
              "      <th>x_64</th>\n",
              "      <th>y_64</th>\n",
              "      <th>x_65</th>\n",
              "      <th>y_65</th>\n",
              "      <th>x_66</th>\n",
              "      <th>y_66</th>\n",
              "      <th>x_67</th>\n",
              "      <th>y_67</th>\n",
              "      <th>x_68</th>\n",
              "      <th>y_68</th>\n",
              "    </tr>\n",
              "  </thead>\n",
              "  <tbody>\n",
              "    <tr>\n",
              "      <th>0</th>\n",
              "      <td>1_0_1_20170112211228948.jpg</td>\n",
              "      <td>-5.0</td>\n",
              "      <td>51.0</td>\n",
              "      <td>-4.0</td>\n",
              "      <td>78.0</td>\n",
              "      <td>-1.0</td>\n",
              "      <td>104.0</td>\n",
              "      <td>3.0</td>\n",
              "      <td>127.0</td>\n",
              "      <td>11.0</td>\n",
              "      <td>...</td>\n",
              "      <td>102.0</td>\n",
              "      <td>139.0</td>\n",
              "      <td>112.0</td>\n",
              "      <td>148.0</td>\n",
              "      <td>101.0</td>\n",
              "      <td>151.0</td>\n",
              "      <td>93.0</td>\n",
              "      <td>153.0</td>\n",
              "      <td>85.0</td>\n",
              "      <td>152.0</td>\n",
              "    </tr>\n",
              "    <tr>\n",
              "      <th>1</th>\n",
              "      <td>4_1_1_20170112210412852.jpg</td>\n",
              "      <td>-15.0</td>\n",
              "      <td>44.0</td>\n",
              "      <td>-14.0</td>\n",
              "      <td>71.0</td>\n",
              "      <td>-12.0</td>\n",
              "      <td>97.0</td>\n",
              "      <td>-5.0</td>\n",
              "      <td>124.0</td>\n",
              "      <td>9.0</td>\n",
              "      <td>...</td>\n",
              "      <td>103.0</td>\n",
              "      <td>142.0</td>\n",
              "      <td>116.0</td>\n",
              "      <td>139.0</td>\n",
              "      <td>103.0</td>\n",
              "      <td>145.0</td>\n",
              "      <td>98.0</td>\n",
              "      <td>146.0</td>\n",
              "      <td>91.0</td>\n",
              "      <td>147.0</td>\n",
              "    </tr>\n",
              "    <tr>\n",
              "      <th>2</th>\n",
              "      <td>4_1_1_20170112210910341.jpg</td>\n",
              "      <td>-9.0</td>\n",
              "      <td>55.0</td>\n",
              "      <td>-8.0</td>\n",
              "      <td>79.0</td>\n",
              "      <td>-4.0</td>\n",
              "      <td>103.0</td>\n",
              "      <td>2.0</td>\n",
              "      <td>123.0</td>\n",
              "      <td>16.0</td>\n",
              "      <td>...</td>\n",
              "      <td>108.0</td>\n",
              "      <td>139.0</td>\n",
              "      <td>117.0</td>\n",
              "      <td>143.0</td>\n",
              "      <td>106.0</td>\n",
              "      <td>146.0</td>\n",
              "      <td>99.0</td>\n",
              "      <td>147.0</td>\n",
              "      <td>92.0</td>\n",
              "      <td>146.0</td>\n",
              "    </tr>\n",
              "    <tr>\n",
              "      <th>3</th>\n",
              "      <td>5_0_1_20170112191417872.jpg</td>\n",
              "      <td>14.0</td>\n",
              "      <td>60.0</td>\n",
              "      <td>16.0</td>\n",
              "      <td>83.0</td>\n",
              "      <td>20.0</td>\n",
              "      <td>104.0</td>\n",
              "      <td>27.0</td>\n",
              "      <td>125.0</td>\n",
              "      <td>38.0</td>\n",
              "      <td>...</td>\n",
              "      <td>106.0</td>\n",
              "      <td>139.0</td>\n",
              "      <td>131.0</td>\n",
              "      <td>141.0</td>\n",
              "      <td>106.0</td>\n",
              "      <td>147.0</td>\n",
              "      <td>97.0</td>\n",
              "      <td>148.0</td>\n",
              "      <td>88.0</td>\n",
              "      <td>146.0</td>\n",
              "    </tr>\n",
              "    <tr>\n",
              "      <th>4</th>\n",
              "      <td>5_1_1_20170112210544957.jpg</td>\n",
              "      <td>20.0</td>\n",
              "      <td>64.0</td>\n",
              "      <td>22.0</td>\n",
              "      <td>84.0</td>\n",
              "      <td>25.0</td>\n",
              "      <td>105.0</td>\n",
              "      <td>28.0</td>\n",
              "      <td>126.0</td>\n",
              "      <td>35.0</td>\n",
              "      <td>...</td>\n",
              "      <td>106.0</td>\n",
              "      <td>139.0</td>\n",
              "      <td>126.0</td>\n",
              "      <td>141.0</td>\n",
              "      <td>105.0</td>\n",
              "      <td>140.0</td>\n",
              "      <td>96.0</td>\n",
              "      <td>141.0</td>\n",
              "      <td>88.0</td>\n",
              "      <td>140.0</td>\n",
              "    </tr>\n",
              "    <tr>\n",
              "      <th>...</th>\n",
              "      <td>...</td>\n",
              "      <td>...</td>\n",
              "      <td>...</td>\n",
              "      <td>...</td>\n",
              "      <td>...</td>\n",
              "      <td>...</td>\n",
              "      <td>...</td>\n",
              "      <td>...</td>\n",
              "      <td>...</td>\n",
              "      <td>...</td>\n",
              "      <td>...</td>\n",
              "      <td>...</td>\n",
              "      <td>...</td>\n",
              "      <td>...</td>\n",
              "      <td>...</td>\n",
              "      <td>...</td>\n",
              "      <td>...</td>\n",
              "      <td>...</td>\n",
              "      <td>...</td>\n",
              "      <td>...</td>\n",
              "      <td>...</td>\n",
              "    </tr>\n",
              "    <tr>\n",
              "      <th>10714</th>\n",
              "      <td>90_1_1_20170117194843274.jpg</td>\n",
              "      <td>10.0</td>\n",
              "      <td>46.0</td>\n",
              "      <td>10.0</td>\n",
              "      <td>70.0</td>\n",
              "      <td>13.0</td>\n",
              "      <td>93.0</td>\n",
              "      <td>18.0</td>\n",
              "      <td>115.0</td>\n",
              "      <td>28.0</td>\n",
              "      <td>...</td>\n",
              "      <td>110.0</td>\n",
              "      <td>139.0</td>\n",
              "      <td>134.0</td>\n",
              "      <td>135.0</td>\n",
              "      <td>111.0</td>\n",
              "      <td>147.0</td>\n",
              "      <td>99.0</td>\n",
              "      <td>150.0</td>\n",
              "      <td>86.0</td>\n",
              "      <td>147.0</td>\n",
              "    </tr>\n",
              "    <tr>\n",
              "      <th>10715</th>\n",
              "      <td>91_0_1_20170117194736477.jpg</td>\n",
              "      <td>34.0</td>\n",
              "      <td>58.0</td>\n",
              "      <td>35.0</td>\n",
              "      <td>80.0</td>\n",
              "      <td>36.0</td>\n",
              "      <td>102.0</td>\n",
              "      <td>39.0</td>\n",
              "      <td>123.0</td>\n",
              "      <td>45.0</td>\n",
              "      <td>...</td>\n",
              "      <td>108.0</td>\n",
              "      <td>138.0</td>\n",
              "      <td>135.0</td>\n",
              "      <td>139.0</td>\n",
              "      <td>109.0</td>\n",
              "      <td>151.0</td>\n",
              "      <td>97.0</td>\n",
              "      <td>153.0</td>\n",
              "      <td>86.0</td>\n",
              "      <td>151.0</td>\n",
              "    </tr>\n",
              "    <tr>\n",
              "      <th>10716</th>\n",
              "      <td>96_1_1_20170117183936388.jpg</td>\n",
              "      <td>16.0</td>\n",
              "      <td>64.0</td>\n",
              "      <td>15.0</td>\n",
              "      <td>85.0</td>\n",
              "      <td>16.0</td>\n",
              "      <td>107.0</td>\n",
              "      <td>20.0</td>\n",
              "      <td>129.0</td>\n",
              "      <td>30.0</td>\n",
              "      <td>...</td>\n",
              "      <td>108.0</td>\n",
              "      <td>140.0</td>\n",
              "      <td>130.0</td>\n",
              "      <td>137.0</td>\n",
              "      <td>109.0</td>\n",
              "      <td>142.0</td>\n",
              "      <td>99.0</td>\n",
              "      <td>144.0</td>\n",
              "      <td>88.0</td>\n",
              "      <td>142.0</td>\n",
              "    </tr>\n",
              "    <tr>\n",
              "      <th>10717</th>\n",
              "      <td>99_0_0_20170117195137161.jpg</td>\n",
              "      <td>20.0</td>\n",
              "      <td>60.0</td>\n",
              "      <td>21.0</td>\n",
              "      <td>81.0</td>\n",
              "      <td>24.0</td>\n",
              "      <td>101.0</td>\n",
              "      <td>27.0</td>\n",
              "      <td>121.0</td>\n",
              "      <td>33.0</td>\n",
              "      <td>...</td>\n",
              "      <td>105.0</td>\n",
              "      <td>143.0</td>\n",
              "      <td>125.0</td>\n",
              "      <td>141.0</td>\n",
              "      <td>105.0</td>\n",
              "      <td>138.0</td>\n",
              "      <td>96.0</td>\n",
              "      <td>140.0</td>\n",
              "      <td>89.0</td>\n",
              "      <td>139.0</td>\n",
              "    </tr>\n",
              "    <tr>\n",
              "      <th>10718</th>\n",
              "      <td>99_1_2_20170117195405372.jpg</td>\n",
              "      <td>10.0</td>\n",
              "      <td>66.0</td>\n",
              "      <td>13.0</td>\n",
              "      <td>88.0</td>\n",
              "      <td>17.0</td>\n",
              "      <td>110.0</td>\n",
              "      <td>23.0</td>\n",
              "      <td>131.0</td>\n",
              "      <td>33.0</td>\n",
              "      <td>...</td>\n",
              "      <td>109.0</td>\n",
              "      <td>138.0</td>\n",
              "      <td>127.0</td>\n",
              "      <td>140.0</td>\n",
              "      <td>109.0</td>\n",
              "      <td>138.0</td>\n",
              "      <td>100.0</td>\n",
              "      <td>139.0</td>\n",
              "      <td>91.0</td>\n",
              "      <td>139.0</td>\n",
              "    </tr>\n",
              "  </tbody>\n",
              "</table>\n",
              "<p>10719 rows × 137 columns</p>\n",
              "</div>"
            ],
            "text/plain": [
              "                           filename   x_1   y_1   x_2   y_2   x_3    y_3  \\\n",
              "0       1_0_1_20170112211228948.jpg  -5.0  51.0  -4.0  78.0  -1.0  104.0   \n",
              "1       4_1_1_20170112210412852.jpg -15.0  44.0 -14.0  71.0 -12.0   97.0   \n",
              "2       4_1_1_20170112210910341.jpg  -9.0  55.0  -8.0  79.0  -4.0  103.0   \n",
              "3       5_0_1_20170112191417872.jpg  14.0  60.0  16.0  83.0  20.0  104.0   \n",
              "4       5_1_1_20170112210544957.jpg  20.0  64.0  22.0  84.0  25.0  105.0   \n",
              "...                             ...   ...   ...   ...   ...   ...    ...   \n",
              "10714  90_1_1_20170117194843274.jpg  10.0  46.0  10.0  70.0  13.0   93.0   \n",
              "10715  91_0_1_20170117194736477.jpg  34.0  58.0  35.0  80.0  36.0  102.0   \n",
              "10716  96_1_1_20170117183936388.jpg  16.0  64.0  15.0  85.0  16.0  107.0   \n",
              "10717  99_0_0_20170117195137161.jpg  20.0  60.0  21.0  81.0  24.0  101.0   \n",
              "10718  99_1_2_20170117195405372.jpg  10.0  66.0  13.0  88.0  17.0  110.0   \n",
              "\n",
              "        x_4    y_4   x_5  ...   x_64   y_64   x_65   y_65   x_66   y_66  \\\n",
              "0       3.0  127.0  11.0  ...  102.0  139.0  112.0  148.0  101.0  151.0   \n",
              "1      -5.0  124.0   9.0  ...  103.0  142.0  116.0  139.0  103.0  145.0   \n",
              "2       2.0  123.0  16.0  ...  108.0  139.0  117.0  143.0  106.0  146.0   \n",
              "3      27.0  125.0  38.0  ...  106.0  139.0  131.0  141.0  106.0  147.0   \n",
              "4      28.0  126.0  35.0  ...  106.0  139.0  126.0  141.0  105.0  140.0   \n",
              "...     ...    ...   ...  ...    ...    ...    ...    ...    ...    ...   \n",
              "10714  18.0  115.0  28.0  ...  110.0  139.0  134.0  135.0  111.0  147.0   \n",
              "10715  39.0  123.0  45.0  ...  108.0  138.0  135.0  139.0  109.0  151.0   \n",
              "10716  20.0  129.0  30.0  ...  108.0  140.0  130.0  137.0  109.0  142.0   \n",
              "10717  27.0  121.0  33.0  ...  105.0  143.0  125.0  141.0  105.0  138.0   \n",
              "10718  23.0  131.0  33.0  ...  109.0  138.0  127.0  140.0  109.0  138.0   \n",
              "\n",
              "        x_67   y_67  x_68   y_68  \n",
              "0       93.0  153.0  85.0  152.0  \n",
              "1       98.0  146.0  91.0  147.0  \n",
              "2       99.0  147.0  92.0  146.0  \n",
              "3       97.0  148.0  88.0  146.0  \n",
              "4       96.0  141.0  88.0  140.0  \n",
              "...      ...    ...   ...    ...  \n",
              "10714   99.0  150.0  86.0  147.0  \n",
              "10715   97.0  153.0  86.0  151.0  \n",
              "10716   99.0  144.0  88.0  142.0  \n",
              "10717   96.0  140.0  89.0  139.0  \n",
              "10718  100.0  139.0  91.0  139.0  \n",
              "\n",
              "[10719 rows x 137 columns]"
            ]
          },
          "metadata": {
            "tags": []
          },
          "execution_count": 51
        }
      ]
    },
    {
      "cell_type": "code",
      "metadata": {
        "id": "TeybDnO1_XXb"
      },
      "source": [
        "name = 'train_landmark' + '.csv'\n",
        "csv_path = os.path.join('./Project/Landmark', name)\n",
        "train_land.to_csv(csv_path, index=False)"
      ],
      "execution_count": null,
      "outputs": []
    },
    {
      "cell_type": "code",
      "metadata": {
        "id": "9J8H8w3a_XXb"
      },
      "source": [
        "test_df.save_csv()"
      ],
      "execution_count": null,
      "outputs": []
    },
    {
      "cell_type": "code",
      "metadata": {
        "id": "QBmerZke_XXc"
      },
      "source": [
        "test_npy = MakeNPYfile(img_dir=test_img_dir, landmark=test_land, sav_path=test_npy_path, xname=test_xname, yname=test_yname)"
      ],
      "execution_count": null,
      "outputs": []
    },
    {
      "cell_type": "code",
      "metadata": {
        "id": "aMd6B-LI_XXc",
        "outputId": "3e3e4491-051f-4068-f5fd-291b805e2035"
      },
      "source": [
        "x_test, y_test = test_npy.img_to_numpy()"
      ],
      "execution_count": null,
      "outputs": [
        {
          "output_type": "stream",
          "text": [
            "(10719, 200, 200)\n",
            "(10719, 136)\n"
          ],
          "name": "stdout"
        }
      ]
    },
    {
      "cell_type": "code",
      "metadata": {
        "id": "RnQGHPie_XXd"
      },
      "source": [
        "test_npy.save_npy()"
      ],
      "execution_count": null,
      "outputs": []
    },
    {
      "cell_type": "code",
      "metadata": {
        "id": "J_KAkL2r_XXd"
      },
      "source": [
        "from sklearn.model_selection import train_test_split\n"
      ],
      "execution_count": null,
      "outputs": []
    },
    {
      "cell_type": "code",
      "metadata": {
        "id": "oKiH9kqt_XXd"
      },
      "source": [
        "test, val = train_test_split(test_land, test_size=0.5)\n"
      ],
      "execution_count": null,
      "outputs": []
    },
    {
      "cell_type": "code",
      "metadata": {
        "id": "gparlg_j_XXe",
        "outputId": "393bb986-0882-4a9c-cf8a-408467b7093f"
      },
      "source": [
        "test.shape"
      ],
      "execution_count": null,
      "outputs": [
        {
          "output_type": "execute_result",
          "data": {
            "text/plain": [
              "(5359, 137)"
            ]
          },
          "metadata": {
            "tags": []
          },
          "execution_count": 62
        }
      ]
    },
    {
      "cell_type": "code",
      "metadata": {
        "id": "pnil4Zdu_XXe"
      },
      "source": [
        "real_test = MakeNPYfile(img_dir=test_img_dir, landmark=test, sav_path=test_npy_path, xname='real_x_test', yname='real_y_test')"
      ],
      "execution_count": null,
      "outputs": []
    },
    {
      "cell_type": "code",
      "metadata": {
        "id": "SykIKRrV_XXf",
        "outputId": "3a344a2c-d1d8-4d85-f52e-3e607b59e915"
      },
      "source": [
        "real_x_test, real_y_test = real_test.img_to_numpy()"
      ],
      "execution_count": null,
      "outputs": [
        {
          "output_type": "stream",
          "text": [
            "(5359, 200, 200)\n",
            "(5359, 136)\n"
          ],
          "name": "stdout"
        }
      ]
    },
    {
      "cell_type": "code",
      "metadata": {
        "id": "7CLcQGmd_XXh"
      },
      "source": [
        "real_test.save_npy()"
      ],
      "execution_count": null,
      "outputs": []
    },
    {
      "cell_type": "code",
      "metadata": {
        "id": "-k0P5I8h_XXi"
      },
      "source": [
        "val_npy_path = './Project/Dataset/Validation'"
      ],
      "execution_count": null,
      "outputs": []
    },
    {
      "cell_type": "code",
      "metadata": {
        "id": "Y0bECwQl_XXi"
      },
      "source": [
        "val = MakeNPYfile(img_dir=test_img_dir, landmark=val, sav_path=val_npy_path, xname='x_val', yname='y_val')"
      ],
      "execution_count": null,
      "outputs": []
    },
    {
      "cell_type": "code",
      "metadata": {
        "id": "tkO8m3Wy_XXj",
        "outputId": "be353e8e-4aca-4c45-9911-b58db7b07df9"
      },
      "source": [
        "x_val, y_val = val.img_to_numpy()"
      ],
      "execution_count": null,
      "outputs": [
        {
          "output_type": "stream",
          "text": [
            "(5360, 200, 200)\n",
            "(5360, 136)\n"
          ],
          "name": "stdout"
        }
      ]
    },
    {
      "cell_type": "code",
      "metadata": {
        "id": "yxzVijCy_XXj"
      },
      "source": [
        "val.save_npy()"
      ],
      "execution_count": null,
      "outputs": []
    }
  ]
}